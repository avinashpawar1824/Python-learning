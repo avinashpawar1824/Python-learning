{
  "nbformat": 4,
  "nbformat_minor": 0,
  "metadata": {
    "colab": {
      "provenance": [],
      "authorship_tag": "ABX9TyPb5ZPUlcJiOpL5DhXgAHIY",
      "include_colab_link": true
    },
    "kernelspec": {
      "name": "python3",
      "display_name": "Python 3"
    },
    "language_info": {
      "name": "python"
    }
  },
  "cells": [
    {
      "cell_type": "markdown",
      "metadata": {
        "id": "view-in-github",
        "colab_type": "text"
      },
      "source": [
        "<a href=\"https://colab.research.google.com/github/avinashpawar1824/Python-learning/blob/main/Untitled0.ipynb\" target=\"_parent\"><img src=\"https://colab.research.google.com/assets/colab-badge.svg\" alt=\"Open In Colab\"/></a>"
      ]
    },
    {
      "cell_type": "code",
      "execution_count": null,
      "metadata": {
        "colab": {
          "base_uri": "https://localhost:8080/"
        },
        "id": "LwodWaijzqST",
        "outputId": "657dcb50-b997-441d-abf6-3adc82139b3b"
      },
      "outputs": [
        {
          "output_type": "stream",
          "name": "stdout",
          "text": [
            "hello\n"
          ]
        }
      ],
      "source": [
        "print(\"hello\")"
      ]
    },
    {
      "cell_type": "code",
      "source": [
        "x= 5\n",
        "print(type(x))"
      ],
      "metadata": {
        "colab": {
          "base_uri": "https://localhost:8080/"
        },
        "id": "1FBQ1Sj4z05f",
        "outputId": "1487dbdf-e4f9-4a56-8d56-93e1f0232ee2"
      },
      "execution_count": null,
      "outputs": [
        {
          "output_type": "stream",
          "name": "stdout",
          "text": [
            "<class 'int'>\n"
          ]
        }
      ]
    },
    {
      "cell_type": "code",
      "source": [
        "a = 56\n",
        "print(a)"
      ],
      "metadata": {
        "colab": {
          "base_uri": "https://localhost:8080/"
        },
        "id": "zlGoIja902-4",
        "outputId": "0aafc73b-7486-4145-f80b-3635c7a4402c"
      },
      "execution_count": null,
      "outputs": [
        {
          "output_type": "stream",
          "name": "stdout",
          "text": [
            "56\n"
          ]
        }
      ]
    },
    {
      "cell_type": "code",
      "source": [
        "type(a)"
      ],
      "metadata": {
        "colab": {
          "base_uri": "https://localhost:8080/"
        },
        "id": "zeJBjSTu12gc",
        "outputId": "c5bbbd7e-28e6-4f37-b013-35e38189e692"
      },
      "execution_count": null,
      "outputs": [
        {
          "output_type": "execute_result",
          "data": {
            "text/plain": [
              "int"
            ]
          },
          "metadata": {},
          "execution_count": 4
        }
      ]
    },
    {
      "cell_type": "code",
      "source": [
        "print(type(a))"
      ],
      "metadata": {
        "colab": {
          "base_uri": "https://localhost:8080/"
        },
        "id": "OgFI0Znl2Iee",
        "outputId": "921e1f71-08f3-46bf-e3a2-4b60d2bee574"
      },
      "execution_count": null,
      "outputs": [
        {
          "output_type": "stream",
          "name": "stdout",
          "text": [
            "<class 'int'>\n"
          ]
        }
      ]
    },
    {
      "cell_type": "code",
      "source": [
        "x = float(50)\n",
        "print(x)"
      ],
      "metadata": {
        "colab": {
          "base_uri": "https://localhost:8080/"
        },
        "id": "lZPIsLm22q5q",
        "outputId": "05c53a11-4884-49c5-a996-b35793ada335"
      },
      "execution_count": null,
      "outputs": [
        {
          "output_type": "stream",
          "name": "stdout",
          "text": [
            "50.0\n"
          ]
        }
      ]
    },
    {
      "cell_type": "code",
      "source": [
        "print(type(x))"
      ],
      "metadata": {
        "colab": {
          "base_uri": "https://localhost:8080/"
        },
        "id": "F-dcXTtb2_-y",
        "outputId": "29a11728-ad90-4a57-8ebd-d771ffd59318"
      },
      "execution_count": null,
      "outputs": [
        {
          "output_type": "stream",
          "name": "stdout",
          "text": [
            "<class 'float'>\n"
          ]
        }
      ]
    },
    {
      "cell_type": "code",
      "source": [
        "#Addition of two number.\n",
        "x = 20\n",
        "y = 30\n",
        "z = x-y\n",
        "print(\"substraction of two number x and y\")\n",
        "print(z)"
      ],
      "metadata": {
        "colab": {
          "base_uri": "https://localhost:8080/"
        },
        "id": "P-Im920m3DrA",
        "outputId": "1a7ee8ad-6d23-4c83-c69c-f091cc00e004"
      },
      "execution_count": null,
      "outputs": [
        {
          "output_type": "stream",
          "name": "stdout",
          "text": [
            "substraction of two number x and y\n",
            "-10\n"
          ]
        }
      ]
    },
    {
      "cell_type": "code",
      "source": [
        "#addtion of two number\n",
        "a= 30\n",
        "b= 40\n",
        "print(\"addition of two number\")\n",
        "print(a+b)\n",
        "\n",
        "#substraction of two number\n",
        "c= 70\n",
        "d= 90\n",
        "print(\"substraction of two number\")\n",
        "print (c-d)\n"
      ],
      "metadata": {
        "colab": {
          "base_uri": "https://localhost:8080/"
        },
        "id": "-pDhlAe-4mlb",
        "outputId": "e207c9fa-e964-4469-ea16-c7186c01d9eb"
      },
      "execution_count": null,
      "outputs": [
        {
          "output_type": "stream",
          "name": "stdout",
          "text": [
            "addition of two number\n",
            "70\n",
            "substraction of two number\n",
            "-20\n"
          ]
        }
      ]
    },
    {
      "cell_type": "code",
      "source": [
        "a= 23\n",
        "b= \"baap\"\n",
        "c= str(a)+b\n",
        "print(c)"
      ],
      "metadata": {
        "colab": {
          "base_uri": "https://localhost:8080/"
        },
        "id": "uzvLGPSM7ZyW",
        "outputId": "ae23e61a-4e2d-4bff-f0ad-09b0b3792af9"
      },
      "execution_count": null,
      "outputs": [
        {
          "output_type": "stream",
          "name": "stdout",
          "text": [
            "23baap\n"
          ]
        }
      ]
    },
    {
      "cell_type": "code",
      "source": [
        "# Addition of 4 number in floting\n",
        "a = 10.8\n",
        "b = 20.8\n",
        "c = 30.7\n",
        "d = 40.5\n",
        "print(a+b+c+d)\n"
      ],
      "metadata": {
        "colab": {
          "base_uri": "https://localhost:8080/"
        },
        "id": "kLXToV-69BAi",
        "outputId": "cdc43a00-7480-4f2a-9972-bf9aaf4d93c3"
      },
      "execution_count": null,
      "outputs": [
        {
          "output_type": "stream",
          "name": "stdout",
          "text": [
            "102.8\n"
          ]
        }
      ]
    },
    {
      "cell_type": "code",
      "source": [
        "#print paragraph using print function\n",
        "p =\"There may be times when you want to specify a type on to a variable. This can be done with casting. Python is an object-orientated language, and as such it uses classes to define data types, including its primitive types\"\n",
        "print(p)"
      ],
      "metadata": {
        "colab": {
          "base_uri": "https://localhost:8080/"
        },
        "id": "5Fsrtuvp-W2r",
        "outputId": "08b5279b-6d46-4534-bb36-927c75359e0e"
      },
      "execution_count": null,
      "outputs": [
        {
          "output_type": "stream",
          "name": "stdout",
          "text": [
            "There may be times when you want to specify a type on to a variable. This can be done with casting. Python is an object-orientated language, and as such it uses classes to define data types, including its primitive types\n"
          ]
        }
      ]
    },
    {
      "cell_type": "code",
      "source": [
        "#multiplication of 3 variables\n",
        "x= 20\n",
        "y= 40\n",
        "z= 50\n",
        "print(\"Multiplication of 3 variables is\")\n",
        "print(x*y*z)"
      ],
      "metadata": {
        "colab": {
          "base_uri": "https://localhost:8080/"
        },
        "id": "XP86z0h7-2Mm",
        "outputId": "5a2c6f25-3976-43e6-e23c-6caa90cf7f57"
      },
      "execution_count": null,
      "outputs": [
        {
          "output_type": "stream",
          "name": "stdout",
          "text": [
            "Multiplication of 3 variables is\n",
            "40000\n"
          ]
        }
      ]
    },
    {
      "cell_type": "code",
      "source": [
        "print(\"hello\")"
      ],
      "metadata": {
        "id": "T1QHbRngAB2I",
        "colab": {
          "base_uri": "https://localhost:8080/"
        },
        "outputId": "69ec31be-b060-424c-aa23-a68a96ea9cb5"
      },
      "execution_count": null,
      "outputs": [
        {
          "output_type": "stream",
          "name": "stdout",
          "text": [
            "hello\n"
          ]
        }
      ]
    },
    {
      "cell_type": "code",
      "source": [
        "# print string number\n",
        "str=(\"hello world\")\n",
        "print(len(str))"
      ],
      "metadata": {
        "colab": {
          "base_uri": "https://localhost:8080/"
        },
        "id": "PFnmxxBv6ykh",
        "outputId": "40cc5ec7-3697-4b5f-99cd-c8af6b2a40a0"
      },
      "execution_count": null,
      "outputs": [
        {
          "output_type": "stream",
          "name": "stdout",
          "text": [
            "11\n"
          ]
        }
      ]
    },
    {
      "cell_type": "code",
      "source": [
        "#print first alphabet\n",
        "a = \"Baap\"\n",
        "print(a[3:4])\n",
        "#end position is not included in slicesing\n",
        "#index starting position from zero\n"
      ],
      "metadata": {
        "colab": {
          "base_uri": "https://localhost:8080/"
        },
        "id": "ywqFQyjr69ED",
        "outputId": "607d9124-dd4b-49fb-d65d-f604b02ae7a3"
      },
      "execution_count": null,
      "outputs": [
        {
          "output_type": "stream",
          "name": "stdout",
          "text": [
            "p\n"
          ]
        }
      ]
    },
    {
      "cell_type": "code",
      "source": [
        "#print all els\n",
        "str=\"BAAP\"\n",
        "print(str[0])\n",
        "print(str[1])\n",
        "print(str[2])\n",
        "print(str[3])"
      ],
      "metadata": {
        "colab": {
          "base_uri": "https://localhost:8080/"
        },
        "id": "hLNjG0aK8F_W",
        "outputId": "cbdc835f-a7ca-45e9-8130-1df97233a9c1"
      },
      "execution_count": null,
      "outputs": [
        {
          "output_type": "stream",
          "name": "stdout",
          "text": [
            "B\n",
            "A\n",
            "A\n",
            "P\n"
          ]
        }
      ]
    },
    {
      "cell_type": "code",
      "source": [
        "#print last two alphabete\n",
        "a=\"Baap\"\n",
        "print(a[2:4])"
      ],
      "metadata": {
        "colab": {
          "base_uri": "https://localhost:8080/"
        },
        "id": "BUJjsVJXAGYt",
        "outputId": "caa9927a-2a60-4251-91ba-f10efb138e60"
      },
      "execution_count": null,
      "outputs": [
        {
          "output_type": "stream",
          "name": "stdout",
          "text": [
            "ap\n"
          ]
        }
      ]
    },
    {
      "cell_type": "code",
      "source": [
        "#print last two wold in reverse positions\n",
        "a=\"BAAP\"\n",
        "print(a[-1:4])"
      ],
      "metadata": {
        "colab": {
          "base_uri": "https://localhost:8080/"
        },
        "id": "MkZ2EEQABhBo",
        "outputId": "45e8f76d-e222-4a2c-e9da-277b2e0044ce"
      },
      "execution_count": null,
      "outputs": [
        {
          "output_type": "stream",
          "name": "stdout",
          "text": [
            "P\n"
          ]
        }
      ]
    },
    {
      "cell_type": "code",
      "source": [
        "#print one after another\n",
        "a=\"BAAP\"\n",
        "print(a[0:4:2])"
      ],
      "metadata": {
        "colab": {
          "base_uri": "https://localhost:8080/"
        },
        "id": "15t3DG9WCjtH",
        "outputId": "eabbc2f8-6ec1-4df4-c23f-434c1f7ee0b2"
      },
      "execution_count": null,
      "outputs": [
        {
          "output_type": "stream",
          "name": "stdout",
          "text": [
            "BA\n"
          ]
        }
      ]
    },
    {
      "cell_type": "code",
      "source": [
        "\n",
        "a=\"COMPANY\"\n",
        "print(a[0:7])"
      ],
      "metadata": {
        "colab": {
          "base_uri": "https://localhost:8080/"
        },
        "id": "w-9wb5srEKQ2",
        "outputId": "b8ea2f05-4798-4396-85bd-96b3361ef0b1"
      },
      "execution_count": null,
      "outputs": [
        {
          "output_type": "stream",
          "name": "stdout",
          "text": [
            "COMPANY\n"
          ]
        }
      ]
    },
    {
      "cell_type": "code",
      "source": [
        "#Print(x[start:stop:step])\n",
        "a=\"COMPANY\"\n",
        "print(a[0:4:7])"
      ],
      "metadata": {
        "colab": {
          "base_uri": "https://localhost:8080/"
        },
        "id": "LuDNyJjtFLwP",
        "outputId": "3bfb86bc-e935-4a40-fd43-4f33be40f37f"
      },
      "execution_count": null,
      "outputs": [
        {
          "output_type": "stream",
          "name": "stdout",
          "text": [
            "C\n"
          ]
        }
      ]
    },
    {
      "cell_type": "code",
      "source": [
        "#Print first and last\n",
        "a=\"COMPANY\"\n",
        "print(a[0:7:6])"
      ],
      "metadata": {
        "colab": {
          "base_uri": "https://localhost:8080/"
        },
        "id": "-CJ_Pm6iFcRp",
        "outputId": "f2efe630-74e7-48f2-be90-eeb76643cb2d"
      },
      "execution_count": null,
      "outputs": [
        {
          "output_type": "stream",
          "name": "stdout",
          "text": [
            "CY\n"
          ]
        }
      ]
    },
    {
      "cell_type": "code",
      "source": [
        "#Print reverse string\n",
        "a=\"COMPANY\"\n",
        "print(a[::-1])"
      ],
      "metadata": {
        "colab": {
          "base_uri": "https://localhost:8080/"
        },
        "id": "CIvujFb7GF1t",
        "outputId": "fb3f47d4-9033-49c0-80c5-6f1070b3c7ad"
      },
      "execution_count": null,
      "outputs": [
        {
          "output_type": "stream",
          "name": "stdout",
          "text": [
            "YNAPMOC\n"
          ]
        }
      ]
    },
    {
      "cell_type": "code",
      "source": [
        "#Print y and c\n",
        "a=\"COMPANY\"\n",
        "print(a[-1:-3:-1])"
      ],
      "metadata": {
        "colab": {
          "base_uri": "https://localhost:8080/"
        },
        "id": "kndPIzGQGq-O",
        "outputId": "4962f424-e181-4d73-c099-9bf163018077"
      },
      "execution_count": null,
      "outputs": [
        {
          "output_type": "stream",
          "name": "stdout",
          "text": [
            "YN\n"
          ]
        }
      ]
    },
    {
      "cell_type": "code",
      "source": [
        "#Print y, n, a and p\n",
        "a=\"COMPANY\"\n",
        "print(a[-1:-5:-1])"
      ],
      "metadata": {
        "colab": {
          "base_uri": "https://localhost:8080/"
        },
        "id": "cCTVXGGlHDJy",
        "outputId": "108789a5-3a85-49cf-dc68-15f823e2aad4"
      },
      "execution_count": null,
      "outputs": [
        {
          "output_type": "stream",
          "name": "stdout",
          "text": [
            "YNAP\n"
          ]
        }
      ]
    },
    {
      "cell_type": "code",
      "source": [
        "#print hello wold\n",
        "a=\"Hello World\"\n",
        "print(a)"
      ],
      "metadata": {
        "id": "i3m5hhwhH5Xe",
        "colab": {
          "base_uri": "https://localhost:8080/"
        },
        "outputId": "4ff94658-5b42-4256-9b20-923908d11436"
      },
      "execution_count": null,
      "outputs": [
        {
          "output_type": "stream",
          "name": "stdout",
          "text": [
            "Hello World\n"
          ]
        }
      ]
    },
    {
      "cell_type": "code",
      "source": [
        "#print hello wold with length\n",
        "a=\"Hello World\"\n",
        "print(a)\n",
        "len(a)"
      ],
      "metadata": {
        "colab": {
          "base_uri": "https://localhost:8080/"
        },
        "id": "Is90DYIx1vb4",
        "outputId": "52feebb7-dc07-4da2-9bf1-8fab8b725fb9"
      },
      "execution_count": null,
      "outputs": [
        {
          "output_type": "stream",
          "name": "stdout",
          "text": [
            "Hello World\n"
          ]
        },
        {
          "output_type": "execute_result",
          "data": {
            "text/plain": [
              "11"
            ]
          },
          "metadata": {},
          "execution_count": 3
        }
      ]
    },
    {
      "cell_type": "code",
      "source": [
        "#print hello wold with Reverse\n",
        "a=\"Hello World\"\n",
        "print(a[::-1])\n"
      ],
      "metadata": {
        "colab": {
          "base_uri": "https://localhost:8080/"
        },
        "id": "D7Fh5Pf92Xs6",
        "outputId": "916eecdc-a65c-45bb-bef8-e95a81904658"
      },
      "execution_count": null,
      "outputs": [
        {
          "output_type": "stream",
          "name": "stdout",
          "text": [
            "dlroW olleH\n"
          ]
        }
      ]
    },
    {
      "cell_type": "code",
      "source": [
        "#print hello wold with upper function\n",
        "a=\"Hello World\"\n",
        "print(a.upper())\n"
      ],
      "metadata": {
        "colab": {
          "base_uri": "https://localhost:8080/"
        },
        "id": "28n_mQr82pSO",
        "outputId": "b5f5e095-fc99-4aa5-a3da-42798d88ef5b"
      },
      "execution_count": null,
      "outputs": [
        {
          "output_type": "stream",
          "name": "stdout",
          "text": [
            "HELLO WORLD\n"
          ]
        }
      ]
    },
    {
      "cell_type": "code",
      "source": [
        "#print hello wold with lower function\n",
        "a=\"Hello World\"\n",
        "print(a.lower())"
      ],
      "metadata": {
        "colab": {
          "base_uri": "https://localhost:8080/"
        },
        "id": "P_xvgT8x3E5a",
        "outputId": "0d96dabf-171e-4dad-8d42-f79f5dfc19a1"
      },
      "execution_count": null,
      "outputs": [
        {
          "output_type": "stream",
          "name": "stdout",
          "text": [
            "hello world\n"
          ]
        }
      ]
    },
    {
      "cell_type": "code",
      "source": [
        "#print hello wold with 3 times\n",
        "a= \"Hello World\"\n",
        "print(a*3)"
      ],
      "metadata": {
        "colab": {
          "base_uri": "https://localhost:8080/"
        },
        "id": "m_m69o3T3b_F",
        "outputId": "0bf7d6df-103a-4709-e0dc-3afed8818c9c"
      },
      "execution_count": null,
      "outputs": [
        {
          "output_type": "stream",
          "name": "stdout",
          "text": [
            "Hello WorldHello WorldHello World\n"
          ]
        }
      ]
    },
    {
      "cell_type": "code",
      "source": [
        "#print hello wold with strip functions\n",
        "x= \"Hello World\"\n",
        "print(x.strip())"
      ],
      "metadata": {
        "colab": {
          "base_uri": "https://localhost:8080/"
        },
        "id": "1IymFofj3tgL",
        "outputId": "d2cfdbcc-6c8c-4480-c3f3-d958012cd042"
      },
      "execution_count": null,
      "outputs": [
        {
          "output_type": "stream",
          "name": "stdout",
          "text": [
            "Hello World\n"
          ]
        }
      ]
    },
    {
      "cell_type": "code",
      "source": [
        "#print hello wold with using 5 function\n",
        "a=\"Hello World\"\n",
        "print(a.lower())\n",
        "print(a.uppper())\n",
        "print(a.strip())\n",
        "print(a.replace(\"H\", \"J\"))"
      ],
      "metadata": {
        "colab": {
          "base_uri": "https://localhost:8080/",
          "height": 228
        },
        "id": "hxWl_GD04G4F",
        "outputId": "b8187932-7222-416d-8633-2ce7c4f2e565"
      },
      "execution_count": null,
      "outputs": [
        {
          "output_type": "stream",
          "name": "stdout",
          "text": [
            "hello world\n"
          ]
        },
        {
          "output_type": "error",
          "ename": "AttributeError",
          "evalue": "'str' object has no attribute 'uppper'",
          "traceback": [
            "\u001b[0;31m---------------------------------------------------------------------------\u001b[0m",
            "\u001b[0;31mAttributeError\u001b[0m                            Traceback (most recent call last)",
            "\u001b[0;32m<ipython-input-17-079020b8dac5>\u001b[0m in \u001b[0;36m<cell line: 4>\u001b[0;34m()\u001b[0m\n\u001b[1;32m      2\u001b[0m \u001b[0ma\u001b[0m\u001b[0;34m=\u001b[0m\u001b[0;34m\"Hello World\"\u001b[0m\u001b[0;34m\u001b[0m\u001b[0;34m\u001b[0m\u001b[0m\n\u001b[1;32m      3\u001b[0m \u001b[0mprint\u001b[0m\u001b[0;34m(\u001b[0m\u001b[0ma\u001b[0m\u001b[0;34m.\u001b[0m\u001b[0mlower\u001b[0m\u001b[0;34m(\u001b[0m\u001b[0;34m)\u001b[0m\u001b[0;34m)\u001b[0m\u001b[0;34m\u001b[0m\u001b[0;34m\u001b[0m\u001b[0m\n\u001b[0;32m----> 4\u001b[0;31m \u001b[0mprint\u001b[0m\u001b[0;34m(\u001b[0m\u001b[0ma\u001b[0m\u001b[0;34m.\u001b[0m\u001b[0muppper\u001b[0m\u001b[0;34m(\u001b[0m\u001b[0;34m)\u001b[0m\u001b[0;34m)\u001b[0m\u001b[0;34m\u001b[0m\u001b[0;34m\u001b[0m\u001b[0m\n\u001b[0m\u001b[1;32m      5\u001b[0m \u001b[0mprint\u001b[0m\u001b[0;34m(\u001b[0m\u001b[0ma\u001b[0m\u001b[0;34m.\u001b[0m\u001b[0mstrip\u001b[0m\u001b[0;34m(\u001b[0m\u001b[0;34m)\u001b[0m\u001b[0;34m)\u001b[0m\u001b[0;34m\u001b[0m\u001b[0;34m\u001b[0m\u001b[0m\n\u001b[1;32m      6\u001b[0m \u001b[0mprint\u001b[0m\u001b[0;34m(\u001b[0m\u001b[0ma\u001b[0m\u001b[0;34m.\u001b[0m\u001b[0mreplace\u001b[0m\u001b[0;34m(\u001b[0m\u001b[0;34m\"H\"\u001b[0m\u001b[0;34m,\u001b[0m \u001b[0;34m\"J\"\u001b[0m\u001b[0;34m)\u001b[0m\u001b[0;34m)\u001b[0m\u001b[0;34m\u001b[0m\u001b[0;34m\u001b[0m\u001b[0m\n",
            "\u001b[0;31mAttributeError\u001b[0m: 'str' object has no attribute 'uppper'"
          ]
        }
      ]
    },
    {
      "cell_type": "code",
      "source": [
        "#print hello wold with using replace function\n",
        "a=\"Hello World\"\n",
        "print(a.replace(\"H\", \"J\"))"
      ],
      "metadata": {
        "colab": {
          "base_uri": "https://localhost:8080/"
        },
        "id": "D22St36q4zf5",
        "outputId": "e8f083e0-cc36-40a9-c17e-d1cf98218c7f"
      },
      "execution_count": null,
      "outputs": [
        {
          "output_type": "stream",
          "name": "stdout",
          "text": [
            "Jello World\n"
          ]
        }
      ]
    },
    {
      "cell_type": "code",
      "source": [
        "#print MCA with using replace function\n",
        "a=\"MCA\"\n",
        "print(a.replace(\"M\", \"A\"))"
      ],
      "metadata": {
        "colab": {
          "base_uri": "https://localhost:8080/"
        },
        "id": "i4fSle885nrr",
        "outputId": "c0fb6c44-5d69-434c-80f6-d2e331cc489f"
      },
      "execution_count": null,
      "outputs": [
        {
          "output_type": "stream",
          "name": "stdout",
          "text": [
            "ACA\n"
          ]
        }
      ]
    },
    {
      "cell_type": "code",
      "source": [
        "#print Baap Company using merge (a+b)\n",
        "a=\"Baap\"\n",
        "b=\"Company\"\n",
        "z=(a+\" \"+b)\n",
        "print(z)"
      ],
      "metadata": {
        "colab": {
          "base_uri": "https://localhost:8080/"
        },
        "id": "LYt07gDc6Tro",
        "outputId": "62acb8a6-ef3a-4ae6-ce42-4d89bba7a6bc"
      },
      "execution_count": null,
      "outputs": [
        {
          "output_type": "stream",
          "name": "stdout",
          "text": [
            "Baap Company\n"
          ]
        }
      ]
    },
    {
      "cell_type": "code",
      "source": [
        "#print Baap Company using merge (a+b) using (x.strip())\n",
        "a=\"    Baap\"\n",
        "b=\"Company\"\n",
        "w=(a.strip())\n",
        "z=(a+\" \"+b)\n",
        "print(z)"
      ],
      "metadata": {
        "colab": {
          "base_uri": "https://localhost:8080/"
        },
        "id": "DtO-2twK7Cfp",
        "outputId": "03ed8ea9-7314-4312-91c3-0e2358460d47"
      },
      "execution_count": null,
      "outputs": [
        {
          "output_type": "stream",
          "name": "stdout",
          "text": [
            "    Baap Company\n"
          ]
        }
      ]
    },
    {
      "cell_type": "code",
      "source": [
        "#print Baap\n",
        "a=\"Baap\"\n",
        "print(f\"Company Name is {a}\")"
      ],
      "metadata": {
        "colab": {
          "base_uri": "https://localhost:8080/"
        },
        "id": "Aq0MdD038m1Z",
        "outputId": "f6239abf-880e-45b4-ecef-468edfc57330"
      },
      "execution_count": null,
      "outputs": [
        {
          "output_type": "stream",
          "name": "stdout",
          "text": [
            "Company Name is Baap\n"
          ]
        }
      ]
    },
    {
      "cell_type": "code",
      "source": [
        "#print\n",
        "Addresse=\"431213\"\n",
        "print(f\"I live in sangmner my pin is {Addresse}\")"
      ],
      "metadata": {
        "colab": {
          "base_uri": "https://localhost:8080/"
        },
        "id": "dFfqN6Fy-3kJ",
        "outputId": "9dbf6c95-2d45-4c9b-9b8f-607e0cecce20"
      },
      "execution_count": null,
      "outputs": [
        {
          "output_type": "stream",
          "name": "stdout",
          "text": [
            "I live in sangmner my pin is 431213\n"
          ]
        }
      ]
    },
    {
      "cell_type": "code",
      "source": [
        "Name=\"Avinash\"\n",
        "SirName=\"Pawar\"\n",
        "Number=\"7620625905\"\n",
        "education=\"MCA\"\n",
        "print(f\"My name is {Name} and my sir Name is {SirName} my Number is {Number} I have completed my post graduation in {education}\")"
      ],
      "metadata": {
        "colab": {
          "base_uri": "https://localhost:8080/"
        },
        "id": "6uJ1fj8N_wxe",
        "outputId": "fae1e2e8-b7bc-4ce0-c626-682bb109aefe"
      },
      "execution_count": null,
      "outputs": [
        {
          "output_type": "stream",
          "name": "stdout",
          "text": [
            "My name is Avinash and my sir Name is Pawar my Number is 7620625905 I have completed my post graduation in MCA\n"
          ]
        }
      ]
    },
    {
      "cell_type": "code",
      "source": [
        "#Converts the first character to upper case\n",
        "a=\"Welcome my wold\"\n",
        "x=a.capitalize()\n",
        "print(x)"
      ],
      "metadata": {
        "colab": {
          "base_uri": "https://localhost:8080/"
        },
        "id": "STa6oVkOApSc",
        "outputId": "1285c95b-dc23-4b79-ed81-2bac4992beb4"
      },
      "execution_count": null,
      "outputs": [
        {
          "output_type": "stream",
          "name": "stdout",
          "text": [
            "Welcome my wold\n"
          ]
        }
      ]
    },
    {
      "cell_type": "code",
      "source": [
        "#Converts string into lower case\n",
        "a=\"Welcome my wold\"\n",
        "x=a.casefold()\n",
        "print(x)\n"
      ],
      "metadata": {
        "colab": {
          "base_uri": "https://localhost:8080/"
        },
        "id": "MY8BVPsAEaNH",
        "outputId": "08e876b7-0f3b-45d3-e314-7fc396d4a81e"
      },
      "execution_count": null,
      "outputs": [
        {
          "output_type": "stream",
          "name": "stdout",
          "text": [
            "welcome my wold\n"
          ]
        }
      ]
    },
    {
      "cell_type": "code",
      "source": [
        "#Returns a centered string\n",
        "a=\"Welcome my wold\"\n",
        "x=a.center(20)\n",
        "print(x)"
      ],
      "metadata": {
        "colab": {
          "base_uri": "https://localhost:8080/"
        },
        "id": "uX0tIrEiE9H9",
        "outputId": "e529f5fa-b5bf-48b8-9c53-2d2da2572198"
      },
      "execution_count": null,
      "outputs": [
        {
          "output_type": "stream",
          "name": "stdout",
          "text": [
            "  Welcome my wold   \n"
          ]
        }
      ]
    },
    {
      "cell_type": "code",
      "source": [
        "#Returns the number of times a specified value occurs in a string\n",
        "a=\"I love apples, apple are my favorite fruit\"\n",
        "x=a.count(\"apple\")\n",
        "print(x)"
      ],
      "metadata": {
        "colab": {
          "base_uri": "https://localhost:8080/"
        },
        "id": "YLiomwZEGuTF",
        "outputId": "ac6db244-ca64-415e-9871-515f127a6706"
      },
      "execution_count": null,
      "outputs": [
        {
          "output_type": "stream",
          "name": "stdout",
          "text": [
            "2\n"
          ]
        }
      ]
    },
    {
      "cell_type": "code",
      "source": [
        "#Returns an encoded version of the string\n",
        "a = \"My name is Avinash\"\n",
        "x = a.encode()\n",
        "print(x)\n"
      ],
      "metadata": {
        "colab": {
          "base_uri": "https://localhost:8080/"
        },
        "id": "N48mnYUMHKeM",
        "outputId": "e943b9d2-ec51-41b2-8382-0ae36ef4dcaa"
      },
      "execution_count": null,
      "outputs": [
        {
          "output_type": "stream",
          "name": "stdout",
          "text": [
            "b'My name is Avinash'\n"
          ]
        }
      ]
    },
    {
      "cell_type": "code",
      "source": [
        "#Returns true if the string ends with the specified value\n",
        "a = \"My name is Avinash\"\n",
        "x = a.endswith(\"Avinash\")\n",
        "print(x)"
      ],
      "metadata": {
        "colab": {
          "base_uri": "https://localhost:8080/"
        },
        "id": "tfQRw0PHHq7r",
        "outputId": "6229d335-30ec-4535-c205-939e5f532698"
      },
      "execution_count": null,
      "outputs": [
        {
          "output_type": "stream",
          "name": "stdout",
          "text": [
            "True\n"
          ]
        }
      ]
    },
    {
      "cell_type": "code",
      "source": [
        "#Sets the tab size of the string\n",
        "a = \"A\\tv\\ti\\tn\\ta\\ts\\th\"\n",
        "x = a.expandtabs(2)\n",
        "print(x)"
      ],
      "metadata": {
        "colab": {
          "base_uri": "https://localhost:8080/"
        },
        "id": "GhVN0nA0IfzK",
        "outputId": "f9640c9b-43bb-4e49-d9ca-9b29db445c2a"
      },
      "execution_count": null,
      "outputs": [
        {
          "output_type": "stream",
          "name": "stdout",
          "text": [
            "A v i n a s h\n"
          ]
        }
      ]
    },
    {
      "cell_type": "code",
      "source": [
        "#Lists are used to store multiple items in a single variable.\n",
        "#List items are ordered and changeable.\n",
        "\n",
        "#What is a List?\n",
        "#A list in Python is a mutable, ordered collection of elements. Lists can store elements of different data types like integers, strings, or even other lists.\n",
        "\n",
        "\n",
        "mylist = [\"Shirt\", \"Payment\", \"Shoppings\"]\n",
        "print(mylist)\n"
      ],
      "metadata": {
        "id": "jPWFLOVbJZ5k",
        "colab": {
          "base_uri": "https://localhost:8080/"
        },
        "outputId": "f7b925fa-1f67-420f-f775-30359e974d86"
      },
      "execution_count": null,
      "outputs": [
        {
          "output_type": "stream",
          "name": "stdout",
          "text": [
            "['Shirt', 'Payment', 'Shoppings']\n"
          ]
        }
      ]
    },
    {
      "cell_type": "code",
      "source": [
        "#print name using list variable\n",
        "studentName = [\"Avinash\", \"Varad\", \"Anand\", \"Arsland\", \"Akash\"]\n",
        "print(studentName[2])"
      ],
      "metadata": {
        "colab": {
          "base_uri": "https://localhost:8080/"
        },
        "id": "eiABEuMMVxfZ",
        "outputId": "378ef43d-294e-44c8-81a9-26bad2bd6f50"
      },
      "execution_count": null,
      "outputs": [
        {
          "output_type": "stream",
          "name": "stdout",
          "text": [
            "Anand\n"
          ]
        }
      ]
    },
    {
      "cell_type": "code",
      "source": [
        "#print last name using list variable\n",
        "studentName = [\"Avinash\", \"Varad\", \"Anand\", \"Arsland\", \"Akash\"]\n",
        "print(studentName[4])"
      ],
      "metadata": {
        "colab": {
          "base_uri": "https://localhost:8080/"
        },
        "id": "1MNSfq_6XsKF",
        "outputId": "bad1b126-d8ca-4455-b290-8a22b325b78b"
      },
      "execution_count": null,
      "outputs": [
        {
          "output_type": "stream",
          "name": "stdout",
          "text": [
            "Akash\n"
          ]
        }
      ]
    },
    {
      "cell_type": "code",
      "source": [
        "#print Reverse direction\n",
        "studentName = [\"Avinash\", \"Varad\", \"Anand\", \"Arsland\", \"Akash\"]\n",
        "print(studentName[::-1])"
      ],
      "metadata": {
        "colab": {
          "base_uri": "https://localhost:8080/"
        },
        "id": "E9bUQhfsYQZp",
        "outputId": "b8450429-e456-438e-c842-2b2a197ef954"
      },
      "execution_count": null,
      "outputs": [
        {
          "output_type": "stream",
          "name": "stdout",
          "text": [
            "['Akash', 'Arsland', 'Anand', 'Varad', 'Avinash']\n"
          ]
        }
      ]
    },
    {
      "cell_type": "code",
      "source": [
        "#print using this step (a[start:stop:steps])\n",
        "studentName = [\"Avinash\", \"Varad\", \"Anand\", \"Arsland\", \"Akash\"]\n",
        "print(studentName[0:6:2])"
      ],
      "metadata": {
        "colab": {
          "base_uri": "https://localhost:8080/"
        },
        "id": "nYuS9PYeYhND",
        "outputId": "425b1705-7dd1-4e45-93b5-0bf94d178240"
      },
      "execution_count": null,
      "outputs": [
        {
          "output_type": "stream",
          "name": "stdout",
          "text": [
            "['Avinash', 'Anand', 'Akash']\n"
          ]
        }
      ]
    },
    {
      "cell_type": "code",
      "source": [
        "#print D, E, F\n",
        "studentName = [\"A\", \"B\", \"C\", \"D\", \"E\", \"F\"]\n",
        "print(studentName[3:6])"
      ],
      "metadata": {
        "colab": {
          "base_uri": "https://localhost:8080/"
        },
        "id": "mDw8xAeJZkce",
        "outputId": "11a7bc44-45ec-4970-a109-ea259e1fe3ee"
      },
      "execution_count": null,
      "outputs": [
        {
          "output_type": "stream",
          "name": "stdout",
          "text": [
            "['D', 'E', 'F']\n"
          ]
        }
      ]
    },
    {
      "cell_type": "code",
      "source": [
        "#print B, C\n",
        "studentName = [\"A\", \"B\", \"C\", \"D\", \"E\", \"F\"]\n",
        "print(studentName[1:3])"
      ],
      "metadata": {
        "colab": {
          "base_uri": "https://localhost:8080/"
        },
        "id": "63FgpxuGaDCg",
        "outputId": "22ccc6fa-8d26-4a8d-b7e6-6723c63a3f23"
      },
      "execution_count": null,
      "outputs": [
        {
          "output_type": "stream",
          "name": "stdout",
          "text": [
            "['B', 'C']\n"
          ]
        }
      ]
    },
    {
      "cell_type": "code",
      "source": [
        "# Add G element in variables\n",
        "studentName = [\"A\", \"B\", \"C\", \"D\", \"E\", \"F\"]\n",
        "studentName.append('G')\n",
        "print(studentName)"
      ],
      "metadata": {
        "colab": {
          "base_uri": "https://localhost:8080/"
        },
        "id": "CzeCgKE_aYii",
        "outputId": "9cc76d82-1b55-49d8-957a-03121f9cb902"
      },
      "execution_count": null,
      "outputs": [
        {
          "output_type": "stream",
          "name": "stdout",
          "text": [
            "['A', 'B', 'C', 'D', 'E', 'F', 'G']\n"
          ]
        }
      ]
    },
    {
      "cell_type": "code",
      "source": [
        "# print datatype\n",
        "studentName = [\"A\", \"B\", \"C\", \"D\", \"E\", \"F\"]\n",
        "studentName.append('G')\n",
        "print(type(studentName))\n"
      ],
      "metadata": {
        "colab": {
          "base_uri": "https://localhost:8080/"
        },
        "id": "0goJXTbcbXFM",
        "outputId": "726acbf3-3e6e-4053-ce32-53c507840efc"
      },
      "execution_count": null,
      "outputs": [
        {
          "output_type": "stream",
          "name": "stdout",
          "text": [
            "<class 'list'>\n"
          ]
        }
      ]
    },
    {
      "cell_type": "code",
      "source": [
        "# print Baap using Append\n",
        "studentName = [\"A\", \"B\", \"C\", \"D\", \"E\", \"F\"]\n",
        "studentName.append('Baap')\n",
        "print(studentName)"
      ],
      "metadata": {
        "colab": {
          "base_uri": "https://localhost:8080/"
        },
        "id": "0LsTmnnBcPND",
        "outputId": "cd6ab8d3-15fc-4e94-fca8-2ee55a5e2b09"
      },
      "execution_count": null,
      "outputs": [
        {
          "output_type": "stream",
          "name": "stdout",
          "text": [
            "['A', 'B', 'C', 'D', 'E', 'F', 'Baap']\n"
          ]
        }
      ]
    },
    {
      "cell_type": "code",
      "source": [
        "# print only Baap\n",
        "studentName = [\"A\", \"B\", \"C\", \"D\", \"E\", \"F\"]\n",
        "studentName.append('Baap')\n",
        "print(studentName[6])"
      ],
      "metadata": {
        "colab": {
          "base_uri": "https://localhost:8080/"
        },
        "id": "CbHOostEdKXJ",
        "outputId": "e7833834-5a07-4bbb-a345-aed7f8783f96"
      },
      "execution_count": null,
      "outputs": [
        {
          "output_type": "stream",
          "name": "stdout",
          "text": [
            "Baap\n"
          ]
        }
      ]
    },
    {
      "cell_type": "code",
      "source": [
        "#print 300, and mark\n",
        "collage=[100, 200, 300, 'student', 'marks']\n",
        "print(collage[2:5:2])"
      ],
      "metadata": {
        "colab": {
          "base_uri": "https://localhost:8080/"
        },
        "id": "Cm5oQf3ndevO",
        "outputId": "39d9d323-15b6-4358-df52-e8e8c9b43449"
      },
      "execution_count": null,
      "outputs": [
        {
          "output_type": "stream",
          "name": "stdout",
          "text": [
            "[300, 'marks']\n"
          ]
        }
      ]
    },
    {
      "cell_type": "code",
      "source": [
        "#print all list\n",
        "collage=[100, 200, 300, 'student', 'marks']\n",
        "print(collage)"
      ],
      "metadata": {
        "colab": {
          "base_uri": "https://localhost:8080/"
        },
        "id": "zhgwuls-eZK1",
        "outputId": "7ae7d5d9-70be-4f93-97bf-03905ae8deca"
      },
      "execution_count": null,
      "outputs": [
        {
          "output_type": "stream",
          "name": "stdout",
          "text": [
            "[100, 200, 300, 'student', 'marks']\n"
          ]
        }
      ]
    },
    {
      "cell_type": "code",
      "source": [
        "#print company and datatype\n",
        "collage=[100, 200, 300, 'student', 'marks']\n",
        "a=\"company\"\n",
        "print(a)\n",
        "type(a)"
      ],
      "metadata": {
        "colab": {
          "base_uri": "https://localhost:8080/"
        },
        "id": "I6-Xxl1AgRkI",
        "outputId": "e7228765-d683-40ae-d281-950a5bb4df9a"
      },
      "execution_count": null,
      "outputs": [
        {
          "output_type": "stream",
          "name": "stdout",
          "text": [
            "company\n"
          ]
        },
        {
          "output_type": "execute_result",
          "data": {
            "text/plain": [
              "str"
            ]
          },
          "metadata": {},
          "execution_count": 44
        }
      ]
    },
    {
      "cell_type": "code",
      "source": [
        "#print company and datatype\n",
        "a=\"company\"\n",
        "print(a)\n",
        "type(a)"
      ],
      "metadata": {
        "colab": {
          "base_uri": "https://localhost:8080/"
        },
        "id": "RpMsBR1uhhWs",
        "outputId": "42bd02b1-cf7d-4875-b799-73c3072ad295"
      },
      "execution_count": null,
      "outputs": [
        {
          "output_type": "stream",
          "name": "stdout",
          "text": [
            "company\n"
          ]
        },
        {
          "output_type": "execute_result",
          "data": {
            "text/plain": [
              "str"
            ]
          },
          "metadata": {},
          "execution_count": 45
        }
      ]
    },
    {
      "cell_type": "code",
      "source": [
        "#print 100 and mark\n",
        "collage=[100, 200, 300, 'student', 'marks']\n",
        "print(collage[0:5:4])"
      ],
      "metadata": {
        "colab": {
          "base_uri": "https://localhost:8080/"
        },
        "id": "Eih6yy4Uh_N_",
        "outputId": "c34c585a-ab5e-42bc-8a10-d0168aa88181"
      },
      "execution_count": null,
      "outputs": [
        {
          "output_type": "stream",
          "name": "stdout",
          "text": [
            "[100, 'marks']\n"
          ]
        }
      ]
    },
    {
      "cell_type": "code",
      "source": [
        "# print Baap within 100...\n",
        "Collage = [100, 200, 300, 'student', 'marks']\n",
        "Collage[0] = 'Baap'\n",
        "print(Collage)"
      ],
      "metadata": {
        "colab": {
          "base_uri": "https://localhost:8080/"
        },
        "id": "rj5R7W1aiSaT",
        "outputId": "cbeb3dc3-5baf-498c-d928-5440013b35a7"
      },
      "execution_count": null,
      "outputs": [
        {
          "output_type": "stream",
          "name": "stdout",
          "text": [
            "['Baap', 200, 300, 'student', 'marks']\n"
          ]
        }
      ]
    },
    {
      "cell_type": "code",
      "source": [
        "# print student within Teacher\n",
        "Collage = [100, 200, 300, 'student', 'marks']\n",
        "Collage[3] = 'Teacher'\n",
        "print(Collage)"
      ],
      "metadata": {
        "colab": {
          "base_uri": "https://localhost:8080/"
        },
        "id": "ZG2dN3-Qikhd",
        "outputId": "6a64db6f-d689-447b-ffd0-908e29d1124f"
      },
      "execution_count": null,
      "outputs": [
        {
          "output_type": "stream",
          "name": "stdout",
          "text": [
            "[100, 200, 300, 'Teacher', 'marks']\n"
          ]
        }
      ]
    },
    {
      "cell_type": "code",
      "source": [
        "# remove 300 using remove variable\n",
        "Collage = [100, 200, 300, 'student', 'marks']\n",
        "Collage.remove(300)\n",
        "print(Collage)"
      ],
      "metadata": {
        "colab": {
          "base_uri": "https://localhost:8080/"
        },
        "id": "m5vAh3pEjx6d",
        "outputId": "9fcdf6da-17fd-4be6-d1dc-dd9fd25f88e4"
      },
      "execution_count": null,
      "outputs": [
        {
          "output_type": "stream",
          "name": "stdout",
          "text": [
            "[100, 200, 'student', 'marks']\n"
          ]
        }
      ]
    },
    {
      "cell_type": "code",
      "source": [
        "# remove 200 and add 2000\n",
        "Collage = [100, 200, 300, 'student', 'marks']\n",
        "Collage[1] = 20000\n",
        "print(Collage)"
      ],
      "metadata": {
        "colab": {
          "base_uri": "https://localhost:8080/"
        },
        "id": "BIAmLtYhlMlN",
        "outputId": "2c628c18-7ed0-4f1a-fb6c-7babc8f84c8e"
      },
      "execution_count": null,
      "outputs": [
        {
          "output_type": "stream",
          "name": "stdout",
          "text": [
            "[100, 20000, 300, 'student', 'marks']\n"
          ]
        }
      ]
    },
    {
      "cell_type": "code",
      "source": [
        "# We can list multiple datatype store.\n",
        "data = [111, 'Avinash', 11.1, (1, 2, 3, 4), 'true']\n",
        "print(data)\n",
        "print(type(data))\n"
      ],
      "metadata": {
        "colab": {
          "base_uri": "https://localhost:8080/"
        },
        "id": "ru-W2bVnlzNC",
        "outputId": "18780579-22e9-4692-ee9b-c7f58049e2ab"
      },
      "execution_count": null,
      "outputs": [
        {
          "output_type": "stream",
          "name": "stdout",
          "text": [
            "[111, 'Avinash', 11.1, (1, 2, 3, 4), 'true']\n",
            "<class 'list'>\n"
          ]
        }
      ]
    },
    {
      "cell_type": "code",
      "source": [
        "#insert school using insert variable\n",
        "data = [111, 'Avinash', 11.1, (1, 2, 3, 4)]\n",
        "data.insert(0, 'school')\n",
        "print(data)\n"
      ],
      "metadata": {
        "colab": {
          "base_uri": "https://localhost:8080/"
        },
        "id": "ufebOfmKpbTb",
        "outputId": "0746f89f-8d32-4666-a49e-74a4bf67c7cc"
      },
      "execution_count": null,
      "outputs": [
        {
          "output_type": "stream",
          "name": "stdout",
          "text": [
            "['school', 111, 'Avinash', 11.1, (1, 2, 3, 4)]\n"
          ]
        }
      ]
    },
    {
      "cell_type": "code",
      "source": [
        "#insert school using insert variable\n",
        "data = [111, 'Avinash', 11.1, (1, 2, 3, 4)]\n",
        "data.insert(0, 'school')\n",
        "print(data)\n",
        "\n"
      ],
      "metadata": {
        "colab": {
          "base_uri": "https://localhost:8080/"
        },
        "id": "xWQsKzzvmx14",
        "outputId": "e24e5a6b-2257-43a3-fec4-8faf12acee91"
      },
      "execution_count": null,
      "outputs": [
        {
          "output_type": "stream",
          "name": "stdout",
          "text": [
            "['school', 111, 'Avinash', 11.1, (1, 2, 3, 4)]\n"
          ]
        }
      ]
    },
    {
      "cell_type": "code",
      "source": [
        "#Searches the string for a specified value and returns the position of where it was found\n",
        "name = \"Avinash Pawar\"\n",
        "x = name.find(\"Pawar\")\n",
        "print(x)"
      ],
      "metadata": {
        "colab": {
          "base_uri": "https://localhost:8080/"
        },
        "id": "pkiRCD1xudZq",
        "outputId": "147b9f1c-92fd-4105-b511-9c56fe007669"
      },
      "execution_count": null,
      "outputs": [
        {
          "output_type": "stream",
          "name": "stdout",
          "text": [
            "8\n"
          ]
        }
      ]
    },
    {
      "cell_type": "code",
      "source": [
        "#print minimun values\n",
        "a= (37,97,23,78)\n",
        "print(min(a))"
      ],
      "metadata": {
        "colab": {
          "base_uri": "https://localhost:8080/"
        },
        "id": "RjhulJxdkH3H",
        "outputId": "fd8542f6-58e9-4859-c5b4-0ee6ffb0b3a4"
      },
      "execution_count": null,
      "outputs": [
        {
          "output_type": "stream",
          "name": "stdout",
          "text": [
            "23\n"
          ]
        }
      ]
    },
    {
      "cell_type": "code",
      "source": [
        "#print values using sum function\n",
        "list = (11,22,33,44)\n",
        "print(sum(list))"
      ],
      "metadata": {
        "colab": {
          "base_uri": "https://localhost:8080/"
        },
        "id": "0gQp20ELkoqO",
        "outputId": "12b249b7-3488-4792-d368-4ca4e7a7d797"
      },
      "execution_count": null,
      "outputs": [
        {
          "output_type": "stream",
          "name": "stdout",
          "text": [
            "110\n"
          ]
        }
      ]
    },
    {
      "cell_type": "code",
      "source": [
        "#print values using sum function\n",
        "list = (1,2,3,'4::')\n",
        "print(sum(list))"
      ],
      "metadata": {
        "colab": {
          "base_uri": "https://localhost:8080/",
          "height": 182
        },
        "id": "dxuIAv5WlDxs",
        "outputId": "e87098e2-5e08-4b93-b61e-1530ac564481"
      },
      "execution_count": null,
      "outputs": [
        {
          "output_type": "error",
          "ename": "TypeError",
          "evalue": "unsupported operand type(s) for +: 'int' and 'str'",
          "traceback": [
            "\u001b[0;31m---------------------------------------------------------------------------\u001b[0m",
            "\u001b[0;31mTypeError\u001b[0m                                 Traceback (most recent call last)",
            "\u001b[0;32m<ipython-input-13-40158f0c0fcd>\u001b[0m in \u001b[0;36m<cell line: 3>\u001b[0;34m()\u001b[0m\n\u001b[1;32m      1\u001b[0m \u001b[0;31m#print values using sum function\u001b[0m\u001b[0;34m\u001b[0m\u001b[0;34m\u001b[0m\u001b[0m\n\u001b[1;32m      2\u001b[0m \u001b[0mlist\u001b[0m \u001b[0;34m=\u001b[0m \u001b[0;34m(\u001b[0m\u001b[0;36m1\u001b[0m\u001b[0;34m,\u001b[0m\u001b[0;36m2\u001b[0m\u001b[0;34m,\u001b[0m\u001b[0;36m3\u001b[0m\u001b[0;34m,\u001b[0m\u001b[0;34m'4::'\u001b[0m\u001b[0;34m)\u001b[0m\u001b[0;34m\u001b[0m\u001b[0;34m\u001b[0m\u001b[0m\n\u001b[0;32m----> 3\u001b[0;31m \u001b[0mprint\u001b[0m\u001b[0;34m(\u001b[0m\u001b[0msum\u001b[0m\u001b[0;34m(\u001b[0m\u001b[0mlist\u001b[0m\u001b[0;34m)\u001b[0m\u001b[0;34m)\u001b[0m\u001b[0;34m\u001b[0m\u001b[0;34m\u001b[0m\u001b[0m\n\u001b[0m",
            "\u001b[0;31mTypeError\u001b[0m: unsupported operand type(s) for +: 'int' and 'str'"
          ]
        }
      ]
    },
    {
      "cell_type": "code",
      "source": [
        "#print list1 and list2 using sum functions\n",
        "list1 = (1,2,3,4)\n",
        "list2 = (5,6,7)\n",
        "print(sum(list1+list2))\n",
        "print(type(list1+list2))"
      ],
      "metadata": {
        "colab": {
          "base_uri": "https://localhost:8080/"
        },
        "id": "4nEr1pMll8Fi",
        "outputId": "b56af22f-7064-496a-a916-24ecb00c819a"
      },
      "execution_count": null,
      "outputs": [
        {
          "output_type": "stream",
          "name": "stdout",
          "text": [
            "28\n",
            "<class 'tuple'>\n"
          ]
        }
      ]
    },
    {
      "cell_type": "code",
      "source": [
        "# print using sorted function\n",
        "G1 = [22,33,7,44,8,77]\n",
        "print(sorted(G1))"
      ],
      "metadata": {
        "colab": {
          "base_uri": "https://localhost:8080/"
        },
        "id": "gSs5GtQjmVH1",
        "outputId": "720b8836-d3af-4ca8-8ca0-a9a92df0d198"
      },
      "execution_count": null,
      "outputs": [
        {
          "output_type": "stream",
          "name": "stdout",
          "text": [
            "[7, 8, 22, 33, 44, 77]\n"
          ]
        }
      ]
    },
    {
      "cell_type": "code",
      "source": [
        "#find second largest number in G2\n",
        "G2 = [786,33,1000,44,8,77]\n",
        "x = (sorted(G2))\n",
        "print(x[-2])"
      ],
      "metadata": {
        "colab": {
          "base_uri": "https://localhost:8080/"
        },
        "id": "rHKk59Vkm6EH",
        "outputId": "935aedc8-734e-40ed-81df-9f96d36a7124"
      },
      "execution_count": null,
      "outputs": [
        {
          "output_type": "stream",
          "name": "stdout",
          "text": [
            "786\n"
          ]
        }
      ]
    },
    {
      "cell_type": "code",
      "source": [
        "#print smallest number\n",
        "G3 = [7878,4000,1000,440,08,77]\n",
        "x = (sorted(G3))\n",
        "print(x[0])"
      ],
      "metadata": {
        "colab": {
          "base_uri": "https://localhost:8080/",
          "height": 109
        },
        "id": "sSTuftW1nnnm",
        "outputId": "beef924b-6dbe-46ac-8a99-f94417c571b9"
      },
      "execution_count": null,
      "outputs": [
        {
          "output_type": "error",
          "ename": "SyntaxError",
          "evalue": "leading zeros in decimal integer literals are not permitted; use an 0o prefix for octal integers (<ipython-input-27-935dfe2d49b0>, line 1)",
          "traceback": [
            "\u001b[0;36m  File \u001b[0;32m\"<ipython-input-27-935dfe2d49b0>\"\u001b[0;36m, line \u001b[0;32m1\u001b[0m\n\u001b[0;31m    G3 = [7878,4000,1000,440,08,77]\u001b[0m\n\u001b[0m                             ^\u001b[0m\n\u001b[0;31mSyntaxError\u001b[0m\u001b[0;31m:\u001b[0m leading zeros in decimal integer literals are not permitted; use an 0o prefix for octal integers\n"
          ]
        }
      ]
    },
    {
      "cell_type": "code",
      "source": [
        "#print the third largest element in the list\n",
        "G4 = [7878,4000,1000,440,8,77]\n",
        "x = (sorted(G4))\n",
        "print(x[-2])"
      ],
      "metadata": {
        "colab": {
          "base_uri": "https://localhost:8080/"
        },
        "id": "I-89NHskpjG7",
        "outputId": "75bc7133-fa93-4ceb-8784-ad4baae545d4"
      },
      "execution_count": null,
      "outputs": [
        {
          "output_type": "stream",
          "name": "stdout",
          "text": [
            "4000\n"
          ]
        }
      ]
    },
    {
      "cell_type": "code",
      "source": [
        "#print frute in list\n",
        "G4 = ['Mango', 'banana', 'apple', 'grapes', 'watermelon']\n",
        "\n",
        "for x in G4:\n",
        "    print(x)"
      ],
      "metadata": {
        "colab": {
          "base_uri": "https://localhost:8080/"
        },
        "id": "hOe8JQx7qTT_",
        "outputId": "bef08c93-216e-4b38-92f1-8abce31fee73"
      },
      "execution_count": null,
      "outputs": [
        {
          "output_type": "stream",
          "name": "stdout",
          "text": [
            "Mango\n",
            "banana\n",
            "apple\n",
            "grapes\n",
            "watermelon\n"
          ]
        }
      ]
    },
    {
      "cell_type": "code",
      "source": [
        "# print number using for x\n",
        "G5 = [111, 289, 789, 656, 379]\n",
        "for x in G5:\n",
        "    print(x)"
      ],
      "metadata": {
        "colab": {
          "base_uri": "https://localhost:8080/"
        },
        "id": "X5r7FdGFrUga",
        "outputId": "345f78cd-31c1-4e06-8cd7-11ead3784e19"
      },
      "execution_count": null,
      "outputs": [
        {
          "output_type": "stream",
          "name": "stdout",
          "text": [
            "111\n",
            "289\n",
            "789\n",
            "656\n",
            "379\n"
          ]
        }
      ]
    },
    {
      "cell_type": "code",
      "source": [
        "# print number and name using for look\n",
        "G6 = [11, 28, 78, 66, 39, 'avinash','pawar',10.4]\n",
        "for x in G6:\n",
        "  print(x)\n"
      ],
      "metadata": {
        "colab": {
          "base_uri": "https://localhost:8080/"
        },
        "id": "-p3eCym3shix",
        "outputId": "e6cdde57-677c-4c7a-d5ab-5cc368126aa8"
      },
      "execution_count": null,
      "outputs": [
        {
          "output_type": "stream",
          "name": "stdout",
          "text": [
            "11\n",
            "28\n",
            "78\n",
            "66\n",
            "39\n",
            "avinash\n",
            "pawar\n",
            "10.4\n"
          ]
        }
      ]
    },
    {
      "cell_type": "code",
      "source": [
        "#print cube root\n",
        "num = [1,2,3,4,5]\n",
        "for x in num:\n",
        "  print(x*x*x)"
      ],
      "metadata": {
        "colab": {
          "base_uri": "https://localhost:8080/"
        },
        "id": "hVThtcdFtOC8",
        "outputId": "106376fc-4d2b-4d20-97f6-cac5767d4095"
      },
      "execution_count": null,
      "outputs": [
        {
          "output_type": "stream",
          "name": "stdout",
          "text": [
            "1\n",
            "8\n",
            "27\n",
            "64\n",
            "125\n"
          ]
        }
      ]
    },
    {
      "cell_type": "code",
      "source": [
        "#print squre root\n",
        "num = [1,2,3,4,5]\n",
        "for x in num:\n",
        "  print(x*x)"
      ],
      "metadata": {
        "colab": {
          "base_uri": "https://localhost:8080/"
        },
        "id": "WxMMVKa3uBk8",
        "outputId": "0dfa3306-aeac-4eac-feec-a608daae9be0"
      },
      "execution_count": null,
      "outputs": [
        {
          "output_type": "stream",
          "name": "stdout",
          "text": [
            "1\n",
            "4\n",
            "9\n",
            "16\n",
            "25\n"
          ]
        }
      ]
    },
    {
      "cell_type": "code",
      "source": [
        "#print range of 6\n",
        "num = [1,2,3,4,5,6,7,8,9]\n",
        "range(6)"
      ],
      "metadata": {
        "colab": {
          "base_uri": "https://localhost:8080/"
        },
        "id": "gNN1KkzEw_Jl",
        "outputId": "35ea3469-2700-4112-995c-4c90d7ca4b93"
      },
      "execution_count": null,
      "outputs": [
        {
          "output_type": "execute_result",
          "data": {
            "text/plain": [
              "range(0, 6)"
            ]
          },
          "metadata": {},
          "execution_count": 47
        }
      ]
    },
    {
      "cell_type": "code",
      "source": [
        "#print range of 0 to 6\n",
        "num = [1,2,3,4,5,6,7,8,9]\n",
        "for x in range(0,6):\n",
        "  print(x)"
      ],
      "metadata": {
        "colab": {
          "base_uri": "https://localhost:8080/"
        },
        "id": "6gRUpJbLxRLo",
        "outputId": "ceff793d-17c0-4467-e99d-f83dc88cdcd7"
      },
      "execution_count": null,
      "outputs": [
        {
          "output_type": "stream",
          "name": "stdout",
          "text": [
            "0\n",
            "1\n",
            "2\n",
            "3\n",
            "4\n",
            "5\n"
          ]
        }
      ]
    },
    {
      "cell_type": "code",
      "source": [
        "# Print the sorted list\n",
        "list = [111, 279, 996, 75, 57, 38]\n",
        "list.sort()\n",
        "print(list)"
      ],
      "metadata": {
        "colab": {
          "base_uri": "https://localhost:8080/"
        },
        "id": "X8QT-mJwyZ_X",
        "outputId": "48b6b704-c169-474a-feb1-f87863e803c6"
      },
      "execution_count": null,
      "outputs": [
        {
          "output_type": "stream",
          "name": "stdout",
          "text": [
            "[38, 57, 75, 111, 279, 996]\n"
          ]
        }
      ]
    },
    {
      "cell_type": "code",
      "source": [
        "#print m2 using copy function\n",
        "m1=[1,2]\n",
        "m2=m1.copy()\n",
        "print(m2)"
      ],
      "metadata": {
        "colab": {
          "base_uri": "https://localhost:8080/"
        },
        "id": "-mxJpLVW2wGB",
        "outputId": "4d25d5f1-b567-4139-f041-92f5dc9d2407"
      },
      "execution_count": null,
      "outputs": [
        {
          "output_type": "stream",
          "name": "stdout",
          "text": [
            "[1, 2]\n"
          ]
        }
      ]
    },
    {
      "cell_type": "code",
      "source": [
        "#\n",
        "a = [a,b,c,d]\n",
        "print(a))"
      ],
      "metadata": {
        "id": "uNyaBp5x30hR",
        "colab": {
          "base_uri": "https://localhost:8080/",
          "height": 109
        },
        "outputId": "47d64a01-b926-4fb9-cb58-32a9cdc818e3"
      },
      "execution_count": null,
      "outputs": [
        {
          "output_type": "error",
          "ename": "SyntaxError",
          "evalue": "unmatched ')' (<ipython-input-6-2c17dc15b75d>, line 3)",
          "traceback": [
            "\u001b[0;36m  File \u001b[0;32m\"<ipython-input-6-2c17dc15b75d>\"\u001b[0;36m, line \u001b[0;32m3\u001b[0m\n\u001b[0;31m    print(a))\u001b[0m\n\u001b[0m            ^\u001b[0m\n\u001b[0;31mSyntaxError\u001b[0m\u001b[0;31m:\u001b[0m unmatched ')'\n"
          ]
        }
      ]
    },
    {
      "cell_type": "code",
      "source": [
        "#program to find sum of no. in list\n",
        "list = [1,2,3,4,5]\n",
        "print(sum(list))"
      ],
      "metadata": {
        "colab": {
          "base_uri": "https://localhost:8080/"
        },
        "id": "eBEAAXiAp6Sk",
        "outputId": "06044c34-cd59-44ad-bdf2-e20b749320c4"
      },
      "execution_count": null,
      "outputs": [
        {
          "output_type": "stream",
          "name": "stdout",
          "text": [
            "15\n"
          ]
        }
      ]
    },
    {
      "cell_type": "code",
      "source": [
        "# use for look\n",
        "list = [1,2,3,4,5]\n",
        "for i in list:\n",
        "  print(x)"
      ],
      "metadata": {
        "colab": {
          "base_uri": "https://localhost:8080/"
        },
        "id": "eHdlUTlKqRF0",
        "outputId": "25dc5d2a-e546-4c71-8f1b-baaa6ff3b7e4"
      },
      "execution_count": null,
      "outputs": [
        {
          "output_type": "stream",
          "name": "stdout",
          "text": [
            "5\n",
            "5\n",
            "5\n",
            "5\n",
            "5\n"
          ]
        }
      ]
    },
    {
      "cell_type": "code",
      "source": [
        "#program to find sum of no in list\n",
        "num = [1,2,3,4,5]\n",
        "for i in num:\n",
        "  total = 2\n",
        "  total = total + i\n",
        "  print(total)"
      ],
      "metadata": {
        "colab": {
          "base_uri": "https://localhost:8080/"
        },
        "id": "o-g74zFYqtBD",
        "outputId": "a5f429c6-8aca-4036-d942-db66e6129254"
      },
      "execution_count": null,
      "outputs": [
        {
          "output_type": "stream",
          "name": "stdout",
          "text": [
            "3\n",
            "4\n",
            "5\n",
            "6\n",
            "7\n"
          ]
        }
      ]
    },
    {
      "cell_type": "code",
      "source": [
        "list1=[1,2,3,4,5]\n",
        "sum=0\n",
        "for i in list1:\n",
        "  sum=sum+i\n",
        "print(sum)"
      ],
      "metadata": {
        "colab": {
          "base_uri": "https://localhost:8080/"
        },
        "id": "c4hAnWBLrn-Z",
        "outputId": "b886d45e-2813-488b-85dd-01fac6d157c4"
      },
      "execution_count": null,
      "outputs": [
        {
          "output_type": "stream",
          "name": "stdout",
          "text": [
            "15\n"
          ]
        }
      ]
    },
    {
      "cell_type": "code",
      "source": [
        "#program to create list using range function\n",
        "L1=[1,2,3,4,5,6,]\n",
        "for i in range(1,6):\n",
        "  L1.append(i)\n",
        "print(L1)"
      ],
      "metadata": {
        "colab": {
          "base_uri": "https://localhost:8080/"
        },
        "id": "7CGuqcpVsal7",
        "outputId": "4d8d9aa1-8591-433b-d227-a7add08d76a2"
      },
      "execution_count": null,
      "outputs": [
        {
          "output_type": "stream",
          "name": "stdout",
          "text": [
            "[1, 2, 3, 4, 5, 6, 1, 2, 3, 4, 5]\n"
          ]
        }
      ]
    },
    {
      "cell_type": "code",
      "source": [
        "#program to take inpute from user & print\n",
        "x = int(input(\"Enter the number:\"))\n",
        "print(x)"
      ],
      "metadata": {
        "colab": {
          "base_uri": "https://localhost:8080/"
        },
        "id": "IkCbTcAos6hE",
        "outputId": "67a176ae-a168-4100-bce7-0cb81528d7e5"
      },
      "execution_count": null,
      "outputs": [
        {
          "output_type": "stream",
          "name": "stdout",
          "text": [
            "Enter the number:1243\n",
            "1243\n"
          ]
        }
      ]
    },
    {
      "cell_type": "code",
      "source": [
        "#program to take inpute from user & print\n",
        "y = int(input(\"Enter the number:\"))\n",
        "print(y)"
      ],
      "metadata": {
        "colab": {
          "base_uri": "https://localhost:8080/"
        },
        "id": "zpm0TlwIufA4",
        "outputId": "743c9660-e941-4a3b-cde4-04648626acbc"
      },
      "execution_count": null,
      "outputs": [
        {
          "output_type": "stream",
          "name": "stdout",
          "text": [
            "Enter the number:133\n",
            "133\n"
          ]
        }
      ]
    },
    {
      "cell_type": "code",
      "source": [
        "#program to take inpute user and print\n",
        "name = input(\"Enter the name:\")\n",
        "print(name)\n",
        "print(name)"
      ],
      "metadata": {
        "colab": {
          "base_uri": "https://localhost:8080/"
        },
        "id": "gABcZT3gvVEm",
        "outputId": "52251a7a-4c5f-4c29-badd-ad17e7165875"
      },
      "execution_count": null,
      "outputs": [
        {
          "output_type": "stream",
          "name": "stdout",
          "text": [
            "Enter the name:The Baap Company\n",
            "The Baap Company\n",
            "The Baap Company\n"
          ]
        }
      ]
    },
    {
      "cell_type": "code",
      "source": [
        "#program to addition two number\n",
        "a = int(input(\"Enter the number:\"))\n",
        "b = int(input(\"Enter the number:\"))\n",
        "print(a+b)"
      ],
      "metadata": {
        "colab": {
          "base_uri": "https://localhost:8080/"
        },
        "id": "BIGb0uXdv9qh",
        "outputId": "4a5f75cc-ba8b-4fa3-ba25-27b5e1c9dbb9"
      },
      "execution_count": null,
      "outputs": [
        {
          "output_type": "stream",
          "name": "stdout",
          "text": [
            "Enter the number:12\n",
            "Enter the number:23\n",
            "35\n"
          ]
        }
      ]
    },
    {
      "cell_type": "code",
      "source": [
        "#program to addition firstname and last name\n",
        "a = input(\"Enter the firstname:\")\n",
        "b = input(\"Enter the lastname:\")\n",
        "print(a+b)"
      ],
      "metadata": {
        "colab": {
          "base_uri": "https://localhost:8080/"
        },
        "id": "VpcCehoxwrHp",
        "outputId": "2081b96b-82ad-4b02-f0af-215623801483"
      },
      "execution_count": null,
      "outputs": [
        {
          "output_type": "stream",
          "name": "stdout",
          "text": [
            "Enter the word:avinash\n",
            "Enter the word:pawar\n",
            "avinashpawar\n"
          ]
        }
      ]
    },
    {
      "cell_type": "code",
      "source": [
        "#program to substraction two numbers\n",
        "a = 20\n",
        "b = 10\n",
        "print(a-b)"
      ],
      "metadata": {
        "colab": {
          "base_uri": "https://localhost:8080/"
        },
        "id": "thzk2H4ZxYtS",
        "outputId": "4a886936-cb3e-4fbd-ac01-119b49f463c9"
      },
      "execution_count": null,
      "outputs": [
        {
          "output_type": "stream",
          "name": "stdout",
          "text": [
            "10\n"
          ]
        }
      ]
    },
    {
      "cell_type": "code",
      "source": [
        "#program to division two number\n",
        "a = 30\n",
        "b = 50\n",
        "print(a/b)"
      ],
      "metadata": {
        "colab": {
          "base_uri": "https://localhost:8080/"
        },
        "id": "n98aZ-6vybrU",
        "outputId": "bf49e90a-5121-4a5d-ee3d-98d90333ec39"
      },
      "execution_count": null,
      "outputs": [
        {
          "output_type": "stream",
          "name": "stdout",
          "text": [
            "0.6\n"
          ]
        }
      ]
    },
    {
      "cell_type": "code",
      "source": [
        "#program to multiplication two number\n",
        "a = 60\n",
        "b = 70\n",
        "print(a*b)"
      ],
      "metadata": {
        "colab": {
          "base_uri": "https://localhost:8080/"
        },
        "id": "EuMVrQNDyhRZ",
        "outputId": "eee1482c-ca99-4028-9fb4-6e1a16ed6122"
      },
      "execution_count": null,
      "outputs": [
        {
          "output_type": "stream",
          "name": "stdout",
          "text": [
            "4200\n"
          ]
        }
      ]
    },
    {
      "cell_type": "code",
      "source": [
        "#program to empty squre using for look and range function.\n",
        "sq = []\n",
        "for i in range(1,11):\n",
        "  sq.append(i*i)\n",
        "print(sq)"
      ],
      "metadata": {
        "colab": {
          "base_uri": "https://localhost:8080/"
        },
        "id": "RMPZgWfjyrKK",
        "outputId": "2c04c7b2-a237-4489-920e-898dc27a9db8"
      },
      "execution_count": null,
      "outputs": [
        {
          "output_type": "stream",
          "name": "stdout",
          "text": [
            "[1, 4, 9, 16, 25, 36, 49, 64, 81, 100]\n"
          ]
        }
      ]
    },
    {
      "cell_type": "code",
      "source": [
        "#program to even or odd no.\n",
        "num = [1,2,3,4,5,6]\n",
        "even = []\n",
        "odd = []\n",
        "for i in num:\n",
        "  if i%2==0:\n",
        "    even.append(i)\n",
        "  else:\n",
        "      odd.append(i)\n",
        "print(even)\n",
        "print(odd)"
      ],
      "metadata": {
        "colab": {
          "base_uri": "https://localhost:8080/"
        },
        "id": "0OQHLdQkzUzF",
        "outputId": "47d18b1a-0e71-4655-e266-bfcfd48b0c9a"
      },
      "execution_count": null,
      "outputs": [
        {
          "output_type": "stream",
          "name": "stdout",
          "text": [
            "[2, 4, 6]\n",
            "[1, 3, 5]\n"
          ]
        }
      ]
    },
    {
      "cell_type": "code",
      "source": [
        "#program to separate positive or negative number\n",
        "num = [1,2,3,4,5,6,-33,-44,-5]\n",
        "positive = []\n",
        "negative = []\n",
        "for i in num:\n",
        "  if i>0:\n",
        "    positive.append(i)\n",
        "  else:\n",
        "    negative.append(i)\n",
        "print(positive)\n",
        "print(negative)\n"
      ],
      "metadata": {
        "colab": {
          "base_uri": "https://localhost:8080/"
        },
        "id": "tbzlGoGm1JoU",
        "outputId": "1e270532-910e-4a00-dc2a-e38441d7cd45"
      },
      "execution_count": null,
      "outputs": [
        {
          "output_type": "stream",
          "name": "stdout",
          "text": [
            "[1, 2, 3, 4, 5, 6]\n",
            "[-33, -44, -5]\n"
          ]
        }
      ]
    },
    {
      "cell_type": "code",
      "source": [
        "#program to large and small number\n",
        "num = [100,200,78,300,1,2,500,786,92]\n",
        "large = []\n",
        "small = []\n",
        "for i in num:\n",
        "if i>100:\n",
        "  large.append(i)\n",
        "  else:\n",
        "    small.append(i)\n",
        "    print(large)\n",
        "    print(small)\n"
      ],
      "metadata": {
        "colab": {
          "base_uri": "https://localhost:8080/",
          "height": 109
        },
        "id": "bsF4Lt953mo0",
        "outputId": "fec26a41-87ad-447a-a817-2895f9245a9b"
      },
      "execution_count": null,
      "outputs": [
        {
          "output_type": "error",
          "ename": "IndentationError",
          "evalue": "expected an indented block after 'for' statement on line 5 (<ipython-input-44-bbcb4f0c1027>, line 6)",
          "traceback": [
            "\u001b[0;36m  File \u001b[0;32m\"<ipython-input-44-bbcb4f0c1027>\"\u001b[0;36m, line \u001b[0;32m6\u001b[0m\n\u001b[0;31m    if i>100:\u001b[0m\n\u001b[0m    ^\u001b[0m\n\u001b[0;31mIndentationError\u001b[0m\u001b[0;31m:\u001b[0m expected an indented block after 'for' statement on line 5\n"
          ]
        }
      ]
    },
    {
      "cell_type": "code",
      "source": [
        "#program to run leap year\n",
        "a1= int(input(\"inter leap year:\"))\n",
        "if a1%4==0:\n",
        "  print(\"leap year\")"
      ],
      "metadata": {
        "colab": {
          "base_uri": "https://localhost:8080/"
        },
        "id": "r_kozQVm7WGe",
        "outputId": "d07f04a6-3c70-475b-8897-02221473c9af"
      },
      "execution_count": null,
      "outputs": [
        {
          "output_type": "stream",
          "name": "stdout",
          "text": [
            "inter leap year:2024\n",
            "leap year\n"
          ]
        }
      ]
    },
    {
      "cell_type": "code",
      "source": [
        "#Program to run age is greater than 18 to participate in election and not 18 is not election\n",
        "age = [18,20,21,22,23,24,25,26,30,40]\n",
        "election = []\n",
        "not_election = []\n",
        "for i in age:\n",
        "  if i>18:\n",
        "    election.append(i)\n",
        "  else:\n",
        "    not_election.append(i)\n",
        "print(election)\n",
        "print(f'for non election {election}')"
      ],
      "metadata": {
        "colab": {
          "base_uri": "https://localhost:8080/"
        },
        "id": "rIj9VgnK74R0",
        "outputId": "b62dfb2d-3ee9-4fa6-bca9-9cc254bd9216"
      },
      "execution_count": null,
      "outputs": [
        {
          "output_type": "stream",
          "name": "stdout",
          "text": [
            "[20, 21, 22, 23, 24, 25, 26, 30, 40]\n",
            "for non election [20, 21, 22, 23, 24, 25, 26, 30, 40]\n"
          ]
        }
      ]
    },
    {
      "cell_type": "code",
      "source": [
        "#program to run 5th table\n",
        "num = 5\n",
        "for i in range(1,11):\n",
        "  print(num, \"x\", i, \"=\", num*i)"
      ],
      "metadata": {
        "colab": {
          "base_uri": "https://localhost:8080/"
        },
        "id": "kKpx7fG49O4Q",
        "outputId": "4ba45e85-9a13-474d-d81c-de6b9f646c91"
      },
      "execution_count": null,
      "outputs": [
        {
          "output_type": "stream",
          "name": "stdout",
          "text": [
            "5 x 1 = 5\n",
            "5 x 2 = 10\n",
            "5 x 3 = 15\n",
            "5 x 4 = 20\n",
            "5 x 5 = 25\n",
            "5 x 6 = 30\n",
            "5 x 7 = 35\n",
            "5 x 8 = 40\n",
            "5 x 9 = 45\n",
            "5 x 10 = 50\n"
          ]
        }
      ]
    },
    {
      "cell_type": "code",
      "source": [
        "#program to run 10th table\n",
        "num = 10\n",
        "for i in range(1,11):\n",
        "  print(num*i)"
      ],
      "metadata": {
        "colab": {
          "base_uri": "https://localhost:8080/"
        },
        "id": "ZmFxydgq-UTD",
        "outputId": "e5d6e5bb-a5cf-43f3-ffa7-a6a87ab1d135"
      },
      "execution_count": null,
      "outputs": [
        {
          "output_type": "stream",
          "name": "stdout",
          "text": [
            "10\n",
            "20\n",
            "30\n",
            "40\n",
            "50\n",
            "60\n",
            "70\n",
            "80\n",
            "90\n",
            "100\n"
          ]
        }
      ]
    },
    {
      "cell_type": "code",
      "source": [
        "#program to run pallendrom\n",
        "s = str(input(\"Enter the string:\"))\n",
        "if s==s[::-1]:\n",
        "  print(\"pallendrom\")\n",
        "else:\n",
        "  print(\"not pallendrom\")"
      ],
      "metadata": {
        "colab": {
          "base_uri": "https://localhost:8080/"
        },
        "id": "46fImtWp-q0c",
        "outputId": "846f6c66-480b-42c3-a771-f25a55414877"
      },
      "execution_count": null,
      "outputs": [
        {
          "output_type": "stream",
          "name": "stdout",
          "text": [
            "Enter the string:pop\n",
            "pallendrom\n"
          ]
        }
      ]
    },
    {
      "cell_type": "code",
      "source": [
        "#program to run star line using num and range function\n",
        "num = 5\n",
        "range(1,5)\n",
        "for i in range(1,5):\n",
        "  print(\"*\"*i)"
      ],
      "metadata": {
        "colab": {
          "base_uri": "https://localhost:8080/"
        },
        "id": "PUPJSZtR_kC2",
        "outputId": "3b282f40-be54-46e1-d11d-29df52f8ebba"
      },
      "execution_count": null,
      "outputs": [
        {
          "output_type": "stream",
          "name": "stdout",
          "text": [
            "*\n",
            "**\n",
            "***\n",
            "****\n"
          ]
        }
      ]
    },
    {
      "cell_type": "code",
      "source": [
        "#program to run star\n",
        "num =5\n",
        "for i in range(1,6):\n",
        "  print(\"*\"*i)"
      ],
      "metadata": {
        "colab": {
          "base_uri": "https://localhost:8080/"
        },
        "id": "PHoCvIYOA1nO",
        "outputId": "511d3afd-4dac-426a-ed17-2686e1543968"
      },
      "execution_count": null,
      "outputs": [
        {
          "output_type": "stream",
          "name": "stdout",
          "text": [
            "*\n",
            "**\n",
            "***\n",
            "****\n",
            "*****\n"
          ]
        }
      ]
    },
    {
      "cell_type": "code",
      "source": [
        "#program to run star in rever condition down to up\n",
        "num = 5\n",
        "for i in range(5,0,-1):\n",
        "  print(\"*\"*i)"
      ],
      "metadata": {
        "colab": {
          "base_uri": "https://localhost:8080/"
        },
        "id": "MssU3A4tBri2",
        "outputId": "2cd60eba-958b-419b-e0fd-869be354ce09"
      },
      "execution_count": null,
      "outputs": [
        {
          "output_type": "stream",
          "name": "stdout",
          "text": [
            "*****\n",
            "****\n",
            "***\n",
            "**\n",
            "*\n"
          ]
        }
      ]
    },
    {
      "cell_type": "code",
      "source": [
        "#program to tuple function\n",
        "tuple = ('aaple','cherry','banan')\n",
        "print(tuple)\n"
      ],
      "metadata": {
        "colab": {
          "base_uri": "https://localhost:8080/"
        },
        "id": "shDzvyoeCQaf",
        "outputId": "ecd50c61-ff10-4101-c0b7-06672b5351a4"
      },
      "execution_count": null,
      "outputs": [
        {
          "output_type": "stream",
          "name": "stdout",
          "text": [
            "('aaple', 'cherry', 'banan')\n"
          ]
        }
      ]
    },
    {
      "cell_type": "code",
      "source": [
        "#program to tuple function and add one food\n",
        "tuple = ('aaple','cherry','banan')\n",
        "tuple = tuple + ('grapes',)\n",
        "print(tuple)\n"
      ],
      "metadata": {
        "colab": {
          "base_uri": "https://localhost:8080/"
        },
        "id": "ozbowBrsDPh5",
        "outputId": "c2e9e62d-9d9c-4d0a-a093-b8b16ebc6261"
      },
      "execution_count": null,
      "outputs": [
        {
          "output_type": "stream",
          "name": "stdout",
          "text": [
            "('aaple', 'cherry', 'banan', 'grapes')\n"
          ]
        }
      ]
    },
    {
      "cell_type": "code",
      "source": [
        "#program to run add two veriables\n",
        "t1 = ('mango', 'banana', 'apple', 'grapes', 'watermelon')\n",
        "t2 = ('mango', 'banana', 'apple', 'grapes', 'watermelon')\n",
        "t1 = t1 + t2\n",
        "print(t1)"
      ],
      "metadata": {
        "colab": {
          "base_uri": "https://localhost:8080/"
        },
        "id": "vgv2LtmyEAnd",
        "outputId": "d98813cd-1cae-4b17-cc36-6b94c05f0b7d"
      },
      "execution_count": null,
      "outputs": [
        {
          "output_type": "stream",
          "name": "stdout",
          "text": [
            "('mango', 'banana', 'apple', 'grapes', 'watermelon', 'mango', 'banana', 'apple', 'grapes', 'watermelon')\n"
          ]
        }
      ]
    },
    {
      "cell_type": "code",
      "source": [
        "#program to run two number using for look\n",
        "t1 = (1,2,3,4,5,6)\n",
        "t2 = (7,8,9,0)\n",
        "for i in t1:\n",
        "  for j in t2:\n",
        "    print(i,j)"
      ],
      "metadata": {
        "colab": {
          "base_uri": "https://localhost:8080/"
        },
        "id": "X8inDX2iEwiU",
        "outputId": "63595a33-4d15-41f0-a794-0d20fe1962db"
      },
      "execution_count": null,
      "outputs": [
        {
          "output_type": "stream",
          "name": "stdout",
          "text": [
            "1 7\n",
            "1 8\n",
            "1 9\n",
            "1 0\n",
            "2 7\n",
            "2 8\n",
            "2 9\n",
            "2 0\n",
            "3 7\n",
            "3 8\n",
            "3 9\n",
            "3 0\n",
            "4 7\n",
            "4 8\n",
            "4 9\n",
            "4 0\n",
            "5 7\n",
            "5 8\n",
            "5 9\n",
            "5 0\n",
            "6 7\n",
            "6 8\n",
            "6 9\n",
            "6 0\n"
          ]
        }
      ]
    },
    {
      "cell_type": "code",
      "source": [
        "#program to run tuple\n",
        "T3 = (1,2,3,4,5,6,6,1,2,3,5,7,1,2,3,3,1)\n",
        "x = T3.count(3)\n",
        "print(x)"
      ],
      "metadata": {
        "id": "HdqU9vxgF5RF",
        "colab": {
          "base_uri": "https://localhost:8080/"
        },
        "outputId": "3de1e917-16cb-4eaa-904a-c039539705a3"
      },
      "execution_count": 4,
      "outputs": [
        {
          "output_type": "stream",
          "name": "stdout",
          "text": [
            "4\n"
          ]
        }
      ]
    },
    {
      "cell_type": "code",
      "source": [
        "#program to run index function\n",
        "T3 = (1,2,3,4,5,6,6,1,2,3,5,7,1,2,3,3,1)\n",
        "x = T3.index(3)\n",
        "print(x)"
      ],
      "metadata": {
        "colab": {
          "base_uri": "https://localhost:8080/"
        },
        "id": "miQzN092viYP",
        "outputId": "462e3072-6495-4bd5-fb76-b29fc53d15a0"
      },
      "execution_count": 9,
      "outputs": [
        {
          "output_type": "stream",
          "name": "stdout",
          "text": [
            "2\n"
          ]
        }
      ]
    },
    {
      "cell_type": "code",
      "source": [
        "#program to run index function\n",
        "T3 = (1,2,3,4,5,6,6,1,2,3,5,7,1,2,3,3,1)\n",
        "x = T3.index(3)\n",
        "y = T3.index(3,x+1)\n",
        "print(y)"
      ],
      "metadata": {
        "colab": {
          "base_uri": "https://localhost:8080/"
        },
        "id": "RYEHjwBVwNRH",
        "outputId": "9d14bae1-5818-4442-f055-d295ea14a107"
      },
      "execution_count": 10,
      "outputs": [
        {
          "output_type": "stream",
          "name": "stdout",
          "text": [
            "9\n"
          ]
        }
      ]
    },
    {
      "cell_type": "code",
      "source": [
        "#program to run using set variable\n",
        "#set item are Unorder and unchangeble and do not allow dublicate value\n",
        "#list []\n",
        "#tuple ()\n",
        "#set {}\n",
        "\n",
        "T3 = {1,2,3,4,5,6,6,1,2,3,5,7,1,2,3,3,1}\n",
        "T3.add(100)\n",
        "print(T3)\n"
      ],
      "metadata": {
        "colab": {
          "base_uri": "https://localhost:8080/"
        },
        "id": "jPfOaf2qx5G3",
        "outputId": "c1755c24-367e-4761-90b9-85e9463a8c02"
      },
      "execution_count": 13,
      "outputs": [
        {
          "output_type": "stream",
          "name": "stdout",
          "text": [
            "{1, 2, 3, 4, 5, 6, 7, 100}\n"
          ]
        }
      ]
    },
    {
      "cell_type": "code",
      "source": [
        "#program to run using set function\n",
        "M1 = {1,2,3,4,5,6,6,1,2,3,5,7,1,2,3,3,1}\n",
        "M1.add(1)\n",
        "print(M1)"
      ],
      "metadata": {
        "colab": {
          "base_uri": "https://localhost:8080/"
        },
        "id": "RCIR--WZ0QE0",
        "outputId": "9815e6db-c33d-4f21-b9f8-57a6732fc82e"
      },
      "execution_count": 19,
      "outputs": [
        {
          "output_type": "stream",
          "name": "stdout",
          "text": [
            "{1, 2, 3, 4, 5, 6, 7}\n"
          ]
        }
      ]
    },
    {
      "cell_type": "code",
      "source": [
        "#program to run check type using set function\n",
        "M1 = {1,2,3,4,5,6,6,1,2,3,5,7,1,2,3,3,1}\n",
        "print(type(M1))"
      ],
      "metadata": {
        "colab": {
          "base_uri": "https://localhost:8080/"
        },
        "id": "-IfXWOk-08-n",
        "outputId": "91d47819-eee7-415a-8edd-501d5bc96c6b"
      },
      "execution_count": 15,
      "outputs": [
        {
          "output_type": "stream",
          "name": "stdout",
          "text": [
            "<class 'set'>\n"
          ]
        }
      ]
    },
    {
      "cell_type": "code",
      "source": [
        "#program to run using list function\n",
        "M1 = [1,2,3,4,5,6,6,1,2,3,5,7,1,2,3,3,1]\n",
        "print(M1)"
      ],
      "metadata": {
        "colab": {
          "base_uri": "https://localhost:8080/"
        },
        "id": "U07hfNMK1OAM",
        "outputId": "53b332a6-00fc-4eb9-919e-330c66e1314f"
      },
      "execution_count": 20,
      "outputs": [
        {
          "output_type": "stream",
          "name": "stdout",
          "text": [
            "[1, 2, 3, 4, 5, 6, 6, 1, 2, 3, 5, 7, 1, 2, 3, 3, 1]\n"
          ]
        }
      ]
    },
    {
      "cell_type": "code",
      "source": [
        "#program to run using remove function\n",
        "M1 = {1,2,3,4,5,6,6,1,2,3,5,7,1,2,3,3,1}\n",
        "M1.remove(1)\n",
        "print(M1)"
      ],
      "metadata": {
        "colab": {
          "base_uri": "https://localhost:8080/"
        },
        "id": "UXiQPis-3054",
        "outputId": "528121ba-1c0d-46fa-cebc-ab0f93c2832a"
      },
      "execution_count": 21,
      "outputs": [
        {
          "output_type": "stream",
          "name": "stdout",
          "text": [
            "{2, 3, 4, 5, 6, 7}\n"
          ]
        }
      ]
    },
    {
      "cell_type": "code",
      "source": [
        "#program to run two set\n",
        "a = {1,2,3}\n",
        "b = {3,4,5}\n",
        "print(a.union(b))"
      ],
      "metadata": {
        "colab": {
          "base_uri": "https://localhost:8080/"
        },
        "id": "IPz_Tq5P4HQx",
        "outputId": "6d915993-f3b8-4c1f-822c-f8a8e2911575"
      },
      "execution_count": 22,
      "outputs": [
        {
          "output_type": "stream",
          "name": "stdout",
          "text": [
            "{1, 2, 3, 4, 5}\n"
          ]
        }
      ]
    },
    {
      "cell_type": "code",
      "source": [
        "#program to run two set\n",
        "a = {1,2,3}\n",
        "b = {3,4,5}\n",
        "c = a.union(b)\n",
        "print(c)"
      ],
      "metadata": {
        "colab": {
          "base_uri": "https://localhost:8080/"
        },
        "id": "x0XwOYra4pdb",
        "outputId": "99b3f345-72a0-4578-d6b8-5bfefa46bf8a"
      },
      "execution_count": 24,
      "outputs": [
        {
          "output_type": "stream",
          "name": "stdout",
          "text": [
            "{1, 2, 3, 4, 5}\n"
          ]
        }
      ]
    },
    {
      "cell_type": "code",
      "source": [
        "#program to run using intersection (outpute is comman number)\n",
        "a = {1,2,3,4,5,6}\n",
        "b = {3,4,5,6,7,8}\n",
        "print(a.intersection(b))\n"
      ],
      "metadata": {
        "colab": {
          "base_uri": "https://localhost:8080/"
        },
        "id": "H00iCQI45NCK",
        "outputId": "feab5e7d-91c1-4df5-a686-998bae944e0f"
      },
      "execution_count": 28,
      "outputs": [
        {
          "output_type": "stream",
          "name": "stdout",
          "text": [
            "{3, 4, 5, 6}\n"
          ]
        }
      ]
    },
    {
      "cell_type": "code",
      "source": [
        "#program to run two set\n",
        "a1 = {1,2,3,4,}\n",
        "a2 = {3,4,5,6}\n",
        "a3 = a1.difference(a2)\n",
        "print(a3)"
      ],
      "metadata": {
        "colab": {
          "base_uri": "https://localhost:8080/"
        },
        "id": "alIaPZJ-5li5",
        "outputId": "0f05610f-9a17-43a3-dad7-1a7cdf4a5c51"
      },
      "execution_count": 30,
      "outputs": [
        {
          "output_type": "stream",
          "name": "stdout",
          "text": [
            "{1, 2}\n"
          ]
        }
      ]
    },
    {
      "cell_type": "code",
      "source": [
        "#program to run using subset\n",
        "a1 = {1,2,3,4,}\n",
        "a2 = {3,4,5,6}\n",
        "print(a1.issubset(a2))"
      ],
      "metadata": {
        "colab": {
          "base_uri": "https://localhost:8080/"
        },
        "id": "FceZy3U-7EZ_",
        "outputId": "3453bae6-1401-4a89-f01a-ecbd76668da5"
      },
      "execution_count": 34,
      "outputs": [
        {
          "output_type": "stream",
          "name": "stdout",
          "text": [
            "False\n"
          ]
        }
      ]
    },
    {
      "cell_type": "code",
      "source": [
        "# Define two sets\n",
        "set1 = {1, 2, 3}\n",
        "set2 = {1, 2, 3, 4, 5}\n",
        "\n",
        "# Check if set1 is a subset of set2\n",
        "if set1.issubset(set2):\n",
        "    print(\"set1 is a subset of set2\")\n",
        "else:\n",
        "    print(\"set1 is not a subset of set2\")\n",
        ""
      ],
      "metadata": {
        "colab": {
          "base_uri": "https://localhost:8080/"
        },
        "id": "FEEOdotv7wtT",
        "outputId": "5a5fe6d6-0196-4eb9-bc96-39e7cac2efc6"
      },
      "execution_count": 35,
      "outputs": [
        {
          "output_type": "stream",
          "name": "stdout",
          "text": [
            "set1 is a subset of set2\n"
          ]
        }
      ]
    },
    {
      "cell_type": "code",
      "source": [
        "#program to run 3 set and find min and mix\n",
        "a1 = {1,2,3,4,}\n",
        "a2 = {3,4,5,6}\n",
        "a3 = {5,6,7,8}\n",
        "print(min(a1,a2,a3))\n",
        "print(max(a1,a2,a3))"
      ],
      "metadata": {
        "colab": {
          "base_uri": "https://localhost:8080/"
        },
        "id": "ceYVGgAz8aHN",
        "outputId": "0efedb7f-4903-4838-a20e-8b16f7d8240c"
      },
      "execution_count": 37,
      "outputs": [
        {
          "output_type": "stream",
          "name": "stdout",
          "text": [
            "{1, 2, 3, 4}\n",
            "{1, 2, 3, 4}\n"
          ]
        }
      ]
    },
    {
      "cell_type": "code",
      "source": [
        "#program to run set using clear function\n",
        "a1 = {1,2,3,4,}\n",
        "a1.clear()\n",
        "print(a1)"
      ],
      "metadata": {
        "colab": {
          "base_uri": "https://localhost:8080/"
        },
        "id": "AZkwxudV9RHs",
        "outputId": "069eaa2a-3496-4f14-b5dd-79cb73238d32"
      },
      "execution_count": 39,
      "outputs": [
        {
          "output_type": "stream",
          "name": "stdout",
          "text": [
            "set()\n"
          ]
        }
      ]
    },
    {
      "cell_type": "code",
      "source": [
        "#program to run dict used to store data int value (digit, )\n",
        "#dict are collaction which is order and do not changeable\n",
        "\n",
        "d1 = {\"name\":\"Baap\", \"location\":\"paregaon\"}\n",
        "print(d1)\n"
      ],
      "metadata": {
        "colab": {
          "base_uri": "https://localhost:8080/"
        },
        "id": "GCGuvNQj-Zpv",
        "outputId": "5bb9b7bb-c07e-490e-db59-406ee3f2c8bf"
      },
      "execution_count": 40,
      "outputs": [
        {
          "output_type": "stream",
          "name": "stdout",
          "text": [
            "{'name': 'Baap', 'location': 'paregaon'}\n"
          ]
        }
      ]
    },
    {
      "cell_type": "code",
      "source": [
        "#program to run dic cheack type\n",
        "d1 = {\"name\":\"Baap\", \"location\":\"paregaon\"}\n",
        "print(type(d1))\n"
      ],
      "metadata": {
        "colab": {
          "base_uri": "https://localhost:8080/"
        },
        "id": "OHr1qAhr_7qg",
        "outputId": "cbb7587c-f071-4305-dedb-0c768d2489f4"
      },
      "execution_count": 41,
      "outputs": [
        {
          "output_type": "stream",
          "name": "stdout",
          "text": [
            "<class 'dict'>\n"
          ]
        }
      ]
    },
    {
      "cell_type": "code",
      "source": [
        "#program to cheack len\n",
        "d1 = {\"name\":\"Baap\", \"location\":\"paregaon\"}\n",
        "print(len(d1))"
      ],
      "metadata": {
        "colab": {
          "base_uri": "https://localhost:8080/"
        },
        "id": "0ZVjprN0AK_N",
        "outputId": "2fc46288-2c29-4024-c085-3fdee3e18a1d"
      },
      "execution_count": 42,
      "outputs": [
        {
          "output_type": "stream",
          "name": "stdout",
          "text": [
            "2\n"
          ]
        }
      ]
    },
    {
      "cell_type": "code",
      "source": [
        "#print only location\n",
        "d1 = {\"name\":\"Baap\", \"location\":\"paregaon\"}\n",
        "print(d1[\"location\"])"
      ],
      "metadata": {
        "colab": {
          "base_uri": "https://localhost:8080/"
        },
        "id": "40-cc0JTAlH2",
        "outputId": "48bd5d1b-7085-4773-fcce-26c48f861013"
      },
      "execution_count": 43,
      "outputs": [
        {
          "output_type": "stream",
          "name": "stdout",
          "text": [
            "paregaon\n"
          ]
        }
      ]
    },
    {
      "cell_type": "code",
      "source": [],
      "metadata": {
        "id": "jbfL7Kb3AvQD"
      },
      "execution_count": null,
      "outputs": []
    }
  ]
}